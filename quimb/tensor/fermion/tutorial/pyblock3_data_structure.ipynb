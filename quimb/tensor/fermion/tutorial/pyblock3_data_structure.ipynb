{
 "cells": [
  {
   "cell_type": "raw",
   "metadata": {},
   "source": [
    "###########################\n",
    "Fermion Block Tensor Basics\n",
    "###########################\n",
    "\n",
    "``pyblock3.algebra.fermion`` submodule is used as the backend for the fermionic modules in quimb. Two data structures, class:`~pyblock3.algebra.fermion.SparseFermionTensor` and class:`~pyblock3.algebra.fermion.FlatFermionTensor`, are supported. Here the former is implemented based on pure python modules and the latter takes advantage of C++ for tensor contraction and transposition.\n",
    "\n",
    "The two data classes have a similar API. In ``quimb``, the backend data type is set via func:`~quimb.tensor.block_interface.set_options`.\n",
    "\n",
    "In this example we go through the data structures in Fermionic Block Tensors"
   ]
  },
  {
   "cell_type": "raw",
   "metadata": {},
   "source": [
    "Supported Symmetry\n",
    "------------------\n",
    "\n",
    "Currently four types of symmetries, Z2, Z2 \\otimes Z2, U1 and U1 \\otimes U1 are supported in fermionic module :module:`~pyblock3.algebra.fermion_symmetry`. Algebraic operations are overloaded in these symmetry classes."
   ]
  },
  {
   "cell_type": "code",
   "execution_count": null,
   "metadata": {},
   "outputs": [],
   "source": [
    "from pyblock3.algebra.fermion_symmetry import Z2, Z22, U1, U11"
   ]
  },
  {
   "cell_type": "code",
   "execution_count": null,
   "metadata": {},
   "outputs": [],
   "source": [
    "sym1 = Z2(0)\n",
    "sym2 = Z2(1)\n",
    "print(\"Z2: %s + %s = %s\"%(sym1, sym2, sym1+sym2))\n",
    "print(\"Z2: %s + %s = %s\"%(sym2, sym2, sym2+sym2))\n",
    "print(\"Z2: %s - %s = %s\"%(sym1, sym2, sym1-sym2))\n",
    "print(\"\\n\")\n",
    "sym1 = Z22(0,1)\n",
    "sym2 = Z22(1,0)\n",
    "print(\"Z2*Z2: %s + %s = %s\"%(sym1, sym2, sym1+sym2))\n",
    "print(\"Z2*Z2: %s + %s = %s\"%(sym2, sym2, sym2+sym2))\n",
    "print(\"Z2*Z2: %s - %s = %s\"%(sym1, sym2, sym1-sym2))\n",
    "print(\"\\n\")\n",
    "\n",
    "sym1 = U1(1)\n",
    "sym2 = U1(2)\n",
    "print(\"U1: %s + %s = %s\"%(sym1, sym2, sym1+sym2))\n",
    "print(\"U1: %s + %s = %s\"%(sym2, sym2, sym2+sym2))\n",
    "print(\"U1: %s - %s = %s\"%(sym1, sym2, sym1-sym2))\n",
    "print(\"\\n\")\n",
    "\n",
    "sym1 = U11(1,1)\n",
    "sym2 = U11(2,0)\n",
    "print(\"U1*U1: %s + %s = %s\"%(sym1, sym2, sym1+sym2))\n",
    "print(\"U1*U1: %s + %s = %s\"%(sym2, sym2, sym2+sym2))\n",
    "print(\"U1*U1: %s - %s = %s\"%(sym1, sym2, sym1-sym2))\n",
    "print(\"\\n\")\n"
   ]
  },
  {
   "cell_type": "raw",
   "metadata": {},
   "source": [
    "Generating Random Block Tensors\n",
    "-------------------------------\n",
    "\n",
    "In this example we demonstrate how to generate a random fermionic tensor shown as below.\n",
    "\n",
    "      ^\n",
    "     j|\n",
    "  i   |  k\n",
    "----->T----->\n",
    "      ^\n",
    "      |l\n",
    "      |\n",
    "\n",
    "We label the tensor as T[i,j,k,l] and we have symmetry relation: S_i - S_j - S_k + S_l = S_T where S_T is the net symmetry on this tensor."
   ]
  },
  {
   "cell_type": "raw",
   "metadata": {},
   "source": [
    "Taking Z2 symmetry as an example, let's allow Z2(0) and Z2(1) block on each indice with a net symmetry of Z2(1), and the shapes for Z2(0), Z2(1) are set as 3 and 5 respectively. This symmetry information can be constructed as a BondInfo object via class :class:`~pyblock3.algebra.symmetry.BondInfo` and then parsed to method :method:`pyblock3.algebra.fermion_symmetry.SparseFermionTensor.random`. Additionally, the symmetry relation and the net quantum symmetry needs to be parsed."
   ]
  },
  {
   "cell_type": "code",
   "execution_count": null,
   "metadata": {},
   "outputs": [],
   "source": [
    "from pyblock3.algebra.symmetry import BondInfo\n",
    "from pyblock3.algebra.fermion import SparseFermionTensor\n",
    "\n",
    "bond = BondInfo({Z2(0):3, Z2(1):5})\n",
    "T = SparseFermionTensor.random((bond,)*4, pattern=\"+--+\", dq=Z2(1))\n"
   ]
  },
  {
   "cell_type": "raw",
   "metadata": {},
   "source": [
    "The tensor above is expected to have 2**4/2=8 symmetry blocks. It's stored as a list of class :class:`pyblock3.algebra.core.SubTensor` which can be accessed individually. Each SubTensor object has both the data and the symmetries stored (attribute q_labels)"
   ]
  },
  {
   "cell_type": "code",
   "execution_count": null,
   "metadata": {},
   "outputs": [],
   "source": [
    "print(\"symmetry pattern:%s\"%T.pattern)\n",
    "print(\"number of blocks=%i\"%len(T.blocks))\n",
    "print(\"First block\",type(T.blocks[0]))\n",
    "\n",
    "for ix, iblk in enumerate(T.blocks):\n",
    "    print(\"block %i: %s - %s - %s + %s = %s\"%(ix, *iblk.q_labels, T.dq), \"shape:\", iblk.shape)"
   ]
  },
  {
   "cell_type": "raw",
   "metadata": {},
   "source": [
    "We give one more example for U1*U1 symmetry where we allow U11(0,0), U11(0,1), U11(1,0), U11(1,1) on i,j and U11(1,1), U11(1,-1) on k,l with a net symmetry of U11(1,1). "
   ]
  },
  {
   "cell_type": "code",
   "execution_count": null,
   "metadata": {},
   "outputs": [],
   "source": [
    "bond1 = BondInfo({U11(0,0):3, U11(1,1):2, U11(1,-1):4, U11(2,0):5})\n",
    "bond2 = BondInfo({U11(1,1):2, U11(1,-1):4})\n",
    "\n",
    "T_u11 = SparseFermionTensor.random((bond1,bond1,bond2,bond2), pattern=\"+--+\", dq=U11(1,1))\n",
    "print(\"symmetry pattern:%s\"%T.pattern)\n",
    "print(\"number of blocks=%i\"%len(T_u11.blocks))\n",
    "print(\"First block\",type(T_u11.blocks[0]))\n",
    "for ix, iblk in enumerate(T_u11.blocks):\n",
    "    print(\"block %i: %s - %s - %s + %s = %s\"%(ix, *iblk.q_labels, T.dq), \"shape:\", iblk.shape)"
   ]
  },
  {
   "cell_type": "raw",
   "metadata": {},
   "source": [
    "Fermionic Tensor Operations\n",
    "---------------------------\n",
    "\n",
    "Allowed operations on Fermionic Tensors include transpositions, tensor contractions, tensor svd and qr decompositions."
   ]
  },
  {
   "cell_type": "raw",
   "metadata": {},
   "source": [
    "Tensor Contraction\n",
    "\n",
    "Implemented as generalized universal function numpy.tensordot"
   ]
  },
  {
   "cell_type": "code",
   "execution_count": null,
   "metadata": {},
   "outputs": [],
   "source": [
    "import numpy as np\n",
    "\n",
    "bond = BondInfo({Z2(0):3, Z2(1):5})\n",
    "T1 = SparseFermionTensor.random((bond,)*3, pattern=\"++-\", dq=Z2(1))\n",
    "\n",
    "\n",
    "scalar = np.tensordot(T1,T1,axes=((0,1,2),(0,1,2)))\n",
    "print(scalar)\n",
    "\n",
    "T2 = SparseFermionTensor.random((bond,)*3, pattern=\"++-\", dq=Z2(1))\n",
    "\n",
    "out_T1T2 = np.tensordot(T1, T2, axes=((2,),(0,))) # T1[i,j,k] T2[k,l,m]\n",
    "out_T2T1 = np.tensordot(T2, T1, axes=((0,),(2,))).transpose((2,3,0,1)) # T2[k,l,m] T1[i,j,k]\n",
    "print((out_T1T2-out_T2T1).norm(), out_T1T2.dq) # \\hat{T1}\\hat{T2} != \\hat{T2}\\hat{T1}\n",
    "\n",
    "# applying Pizorn's Algorithm\n",
    "new_T2 = T2.copy()\n",
    "new_T2._local_flip([0])\n",
    "new_T2._global_flip()\n",
    "\n",
    "new_out_T2T1 = np.tensordot(new_T2, T1, axes=((0,),(2,))).transpose((2,3,0,1))\n",
    "print((out_T1T2-new_out_T2T1).norm(), new_out_T2T1.dq)"
   ]
  },
  {
   "cell_type": "raw",
   "metadata": {},
   "source": [
    "Tensor Transposition\n",
    "\n",
    "Fermionic tensor transposition also implemented as generalized universal function numpy.transpose, but it is defined slightly differently than the regular transposition. In addition to permuting axes, a -1 phase may be factorized to account for swapping the order of two basis to ensure the representing operator, not the tensor remains the same. "
   ]
  },
  {
   "cell_type": "code",
   "execution_count": null,
   "metadata": {},
   "outputs": [],
   "source": [
    "bond = BondInfo({Z2(0):1, Z2(1):2})\n",
    "T = SparseFermionTensor.random((bond,)*2, pattern=\"+-\", dq=Z2(0)) #T[i,j]\n",
    "Tx = np.transpose(T, (1,0)) #Tx[j,i]\n",
    "Ty = T.dagger # hermitian conjugate of the operator # Ty[ji]\n",
    "\n",
    "for iblk1, iblk2, iblk3, in zip(T, Tx, Ty):\n",
    "    print(np.asarray(iblk1.transpose([1,0])).ravel(), np.asarray(iblk2).ravel(), np.asarray(iblk3).ravel())"
   ]
  },
  {
   "cell_type": "raw",
   "metadata": {},
   "source": [
    "Tensor SVD\n",
    "\n",
    "Fermionic tensor SVD is implemented via method :method:`~pyblock3.algebra.fermion.SparseFermionTensor.tensor_svd`."
   ]
  },
  {
   "cell_type": "code",
   "execution_count": null,
   "metadata": {},
   "outputs": [],
   "source": [
    "bond = BondInfo({Z2(0):1, Z2(1):2})\n",
    "T = SparseFermionTensor.random((bond,)*4, pattern=\"++--\", dq=Z2(1)) #T[i,j]\n",
    "qpn_partition = (Z2(0), Z2(1)) # net symmetry Z2(0) on U, net symmetry Z2(1) on V\n",
    "\n",
    "for max_bond in range(4, 10):\n",
    "    U, S, V = T.tensor_svd(left_idx=[0,2], qpn_partition=qpn_partition, absorb=None, max_bond=max_bond)\n",
    "    tmp = np.tensordot(U, S, axes=((-1,),(0,)))\n",
    "    new_T = np.tensordot(tmp, V, axes=((-1,),(0,))).transpose([0,2,1,3])\n",
    "    print(\"max_bond=%i, err=%.8f\"%(max_bond, (new_T-T).norm()))"
   ]
  },
  {
   "cell_type": "raw",
   "metadata": {},
   "source": [
    "Tensor QR\n",
    "\n",
    "Implemented via method :method:`~pyblock3.algebra.fermion.SparseFermionTensor.tensor_qr`."
   ]
  },
  {
   "cell_type": "code",
   "execution_count": null,
   "metadata": {},
   "outputs": [],
   "source": [
    "bond = BondInfo({Z2(0):1, Z2(1):2})\n",
    "T = SparseFermionTensor.random((bond,)*4, pattern=\"++--\", dq=Z2(1)) #T[i,j]\n",
    "qpn_partition = (Z2(0), Z2(1)) # net symmetry Z2(0) on U, net symmetry Z2(1) on V\n",
    "\n",
    "\n",
    "Q, R = T.tensor_qr(left_idx=[0,2], mod='qr')\n",
    "new_T = np.tensordot(Q, R, axes=((-1,),(0,))).transpose([0,2,1,3])\n",
    "print(\"err=%.8f\"%((new_T-T).norm()))\n",
    "\n",
    "L, Q = T.tensor_qr(left_idx=[0,2], mod='lq')\n",
    "new_T = np.tensordot(L, Q, axes=((-1,),(0,))).transpose([0,2,1,3])\n",
    "print(\"err=%.8f\"%((new_T-T).norm()))\n"
   ]
  },
  {
   "cell_type": "raw",
   "metadata": {},
   "source": [
    "Generating Customized Tensor\n",
    "----------------------------\n",
    "\n",
    "Customized Tensor needs to be generated by hand with class :class:`~pyblock3.algebra.core.SubTensor`. Each block is equivalent to a SubTensor object and a list of these blocks along with a symmetry pattern is then parsed to construct a SparseFermionTensor. Let's give a few examples on how to customize a Fermionic Tensor"
   ]
  },
  {
   "cell_type": "raw",
   "metadata": {},
   "source": [
    "I. Z2 symmetry\n",
    "\n",
    "Here we use Z2 symmetry to encode four basis: |0>, |+->, |+> and |-> where the first two basis are encoded in Z2(0) block and the latter two are in Z2(1) (shape equals 2 for each block).\n",
    "\n",
    "Here we first demonstrate how to construct simple 1-bit operators and states.\n",
    "\n",
    "Particle number operator = 0|0><0| + 2|+-><-+| + 1|+><+| + 1|-><-|\n",
    "# Note the basis in bra and ket must be hermitian conjugate\n",
    "\n",
    "SZ operator = 0|0><0| + 0|+-><-+| + .5|+><+| -.5 |-><-|\n",
    "\n",
    "Singlet State = |+,-> - |-,+> (not normalized)"
   ]
  },
  {
   "cell_type": "code",
   "execution_count": null,
   "metadata": {},
   "outputs": [],
   "source": [
    "from pyblock3.algebra.core import SubTensor\n",
    "\n",
    "even_even_block = np.zeros((2,2))\n",
    "even_even_block[1,1] = 2\n",
    "# q_labels (output symmetry label, input symmetry label)\n",
    "block1 = SubTensor(reduced=even_even_block, q_labels=(Z2(0), Z2(0))) \n",
    "\n",
    "odd_odd_block = np.eye(2)\n",
    "block2 = SubTensor(reduced=odd_odd_block, q_labels=(Z2(1), Z2(1)))\n",
    "\n",
    "PN = SparseFermionTensor(blocks=[block1, block2], pattern=\"+-\")\n",
    "\n",
    "even_even_block = np.zeros((2,2))\n",
    "block1 = SubTensor(reduced=even_even_block, q_labels=(Z2(0), Z2(0)))\n",
    "\n",
    "odd_odd_block = np.eye(2)*.5\n",
    "odd_odd_block[1,1] *= - 1\n",
    "block2 = SubTensor(reduced=odd_odd_block, q_labels=(Z2(1), Z2(1)))\n",
    "SZ = SparseFermionTensor(blocks=[block1, block2], pattern=\"+-\")\n",
    "\n",
    "odd_odd_block = np.zeros((2,2))\n",
    "odd_odd_block[0,1] = 1  #  |+,->\n",
    "odd_odd_block[1,0] = -1 # -|-,+>\n",
    "block = SubTensor(reduced=odd_odd_block, q_labels=((Z2(1), Z2(1))))\n",
    "singlet = SparseFermionTensor(blocks=[block], pattern=\"++\") # creation operators for both indices\n",
    "\n",
    "\n",
    "# <psi| N_0| psi>, particle number on 1st site\n",
    "\n",
    "bra = singlet.dagger\n",
    "norm = np.tensordot(bra, singlet, axes=((0,1),(1,0))) # bra[j,i] ket[i,j]\n",
    "op_and_ket = np.tensordot(PN, singlet, axes=((-1,),(0,))) # PN[i,i`] ket[i`,j] -> new_ket[i,j]\n",
    "expec = np.tensordot(bra, op_and_ket, axes=((0,1),(1,0))) # bra[j,i] new_ket[i,j]\n",
    "print(\"<psi|psi>=%.2f, <psi|N_0|psi>=%.2f\"%(norm, expec))\n",
    "\n",
    "# <psi| SZ_0| psi>, particle number on 1st site\n",
    "\n",
    "op_and_ket = np.tensordot(SZ, singlet, axes=((-1,),(0,))) # bra[j,i] ket[i,j]\n",
    "expec = np.tensordot(bra, op_and_ket, axes=((0,1),(1,0))) # PN[i,i`] ket[i`,j] -> new_ket[i,j]\n",
    "print(\"<psi|psi>=%.2f, <psi|SZ_0|psi>=%.2f\"%(norm, expec)) # bra[j,i] new_ket[i,j]\n"
   ]
  },
  {
   "cell_type": "raw",
   "metadata": {},
   "source": [
    "II. Two-bit operators\n",
    "\n",
    "Under the same encoding scheme here we demonstrate how to construct hopping Hamiltonian a^{\\dagger}_i a_j\n",
    "                                                                  i      j      j'     i'\n",
    "Hop =   |-,0><-,0| +  |+,0><+,0| - |-,+-><-,-+| - |+,+-><+,-+| # (Z2(1), Z2(0), Z2(1), Z2(0))\n",
    "    =  |+-,0><-,+| - |+-,0><+,-| -  |0,+-><+,-| +  |0,+-><-,+| # (Z2(0), Z2(0), Z2(1), Z2(1))\n",
    "    =   |0,-><0,-| +  |0,+><0,+| - |+-,-><-+,-| - |+-,+><-+,+| # (Z2(0), Z2(1), Z2(0), Z2(1))\n",
    "    = -|-,+><-+,0| -  |-,+><0,-+| + |+,-><-+,0| + |+,-><0,-+|  # (Z2(1), Z2(1), Z2(0), Z2(0))\n",
    "\n"
   ]
  },
  {
   "cell_type": "code",
   "execution_count": null,
   "metadata": {},
   "outputs": [],
   "source": [
    "block_1010 = np.zeros((2,2,2,2))\n",
    "block_1010[1,0,1,0] = block_1010[0,0,0,0] = 1\n",
    "block_1010[1,1,1,1] = block_1010[0,1,0,1] =-1\n",
    "block1 = SubTensor(reduced=block_1010, q_labels=(Z2(1),Z2(0),Z2(1),Z2(0)))\n",
    "\n",
    "block_0011 = np.zeros((2,2,2,2))\n",
    "block_0011[1,0,1,0] = block_0011[0,1,1,0] = 1\n",
    "block_0011[1,0,0,1] = block_0011[0,1,0,1] =-1\n",
    "block2 = SubTensor(reduced=block_0011, q_labels=(Z2(0),Z2(0),Z2(1),Z2(1)))\n",
    "\n",
    "block_0101 = np.zeros((2,2,2,2))\n",
    "block_0101[0,1,0,1] = block_0101[0,0,0,0] = 1\n",
    "block_0101[1,1,1,1] = block_0101[1,0,1,0] =-1\n",
    "block3 = SubTensor(reduced=block_0101, q_labels=(Z2(0),Z2(1),Z2(0),Z2(1)))\n",
    "\n",
    "block_1100 = np.zeros((2,2,2,2))\n",
    "block_1100[0,1,1,0] = block_1100[0,1,0,1] = 1\n",
    "block_1100[1,0,1,0] = block_1100[1,0,0,1] =-1\n",
    "block4 = SubTensor(reduced=block_1100, q_labels=(Z2(1),Z2(1),Z2(0),Z2(0)))\n",
    "\n",
    "O = SparseFermionTensor(blocks=[block1,block2,block3,block4], pattern=\"++--\")\n",
    "Ox = O.dagger\n",
    "\n",
    "print(\"checking Hermicity\",(O-Ox).norm())\n"
   ]
  },
  {
   "cell_type": "raw",
   "metadata": {},
   "source": [
    "III. Helper module for default style encoding\n",
    "\n",
    "The fermionic module in pyblock3 provides helper modules to generate some simple Operators for spinful fermions. The default encoding scheme are shown as below:\n",
    "\n",
    "\n",
    "Symmetry    |vac>      |+->       |+>         |->\n",
    "--------------------------------------------------\n",
    "   Z2       Z2(0)      Z2(0)      Z2(1)       Z2(1)\n",
    "  Z2*Z2     (0,0)      (0,1)      (1,0)       (1,1)\n",
    "   U1       U1(0)      U1(2)      U1(1)       U1(1)\n",
    "  U1*U1     (0,0)      (2,0)      (1,1)       (1,-1)\n",
    "--------------------------------------------------\n",
    "\n",
    "For the encoding schemes above, the supported operators are implemented in:\n",
    "\n",
    "- :func:`~pyblock3.algebra.fermion_ops.ParticleNumber`\n",
    "- :func:`~pyblock3.algebra.fermion_ops.measure_SZ`\n",
    "- :func:`~pyblock3.algebra.fermion_ops.Hubbard`"
   ]
  },
  {
   "cell_type": "code",
   "execution_count": null,
   "metadata": {},
   "outputs": [],
   "source": [
    "# Note in the case above, the O tensor we generated are labelled by [i,j,j',i']. \n",
    "# In quimb interface, the default assumes the operator gate are labelled by [i,j,i',j']\n",
    "O_to_quimb = O.transpose([0,1,3,2])\n",
    "\n",
    "from pyblock3.algebra.fermion_ops import H1, Hubbard\n",
    "\n",
    "Otmp = H1(symmetry=Z2, flat=False)\n",
    "print((Otmp-O_to_quimb).norm())\n",
    "\n"
   ]
  },
  {
   "cell_type": "raw",
   "metadata": {},
   "source": [
    "CPP Backend Data Class\n",
    "----------------------\n",
    "\n",
    "The CPP data class :class:`~pyblock3.algebra.fermion.FlatFermionTensor` uses flat numbers to store the symmetry and has a similar API as the python data class. The two classes can be converted via method :method:`~pyblock3.algebra.fermion.FlatFermionTensor.to_sparse()` or method :method:`~pyblock3.algebra.fermion.SparseFermionTensor.to_flat()`\n",
    "\n",
    "There is no helper function to generate customized fermionic Tensor for FlatFermionTensor and it's recommended to generate the tensor with SparseFermionTensor class and then convert to FlatFermionTensor."
   ]
  },
  {
   "cell_type": "code",
   "execution_count": null,
   "metadata": {},
   "outputs": [],
   "source": [
    "bond = BondInfo({Z2(0):3, Z2(1):5})\n",
    "T1 = SparseFermionTensor.random((bond,)*3, pattern=\"++-\", dq=Z2(1))\n",
    "Tf1 = T1.to_flat()\n",
    "print(T1.__class__, Tf1.__class__)\n",
    "\n",
    "##########################\n",
    "####Tensor Contraction####\n",
    "##########################\n",
    "scalar = np.tensordot(T1,T1,axes=((0,1,2),(0,1,2)))\n",
    "scalar_f = np.tensordot(Tf1,Tf1,axes=((0,1,2),(0,1,2)))\n",
    "print(scalar, scalar_f)\n",
    "\n",
    "T2 = SparseFermionTensor.random((bond,)*3, pattern=\"++-\", dq=Z2(1))\n",
    "Tf2 = T2.to_flat()\n",
    "\n",
    "out_T1T2 = np.tensordot(T1, T2, axes=((2,),(0,)))\n",
    "outf_T1T2 = np.tensordot(Tf1, Tf2, axes=((2,),(0,)))\n",
    "\n",
    "# convert them to the same data class before operations\n",
    "print((out_T1T2.to_flat()-outf_T1T2).norm(), (outf_T1T2.to_sparse()-out_T1T2).norm())\n",
    "\n",
    "##########################\n",
    "########Tensor SVD########\n",
    "##########################\n",
    "\n",
    "bond = BondInfo({Z2(0):1, Z2(1):2})\n",
    "T = SparseFermionTensor.random((bond,)*4, pattern=\"++--\", dq=Z2(1)) #T[i,j]\n",
    "Tf = T.to_flat()\n",
    "qpn_partition = (Z2(0), Z2(1)) # net symmetry Z2(0) on U, net symmetry Z2(1) on V\n",
    "\n",
    "for max_bond in range(4, 10):\n",
    "    U, S, V = Tf.tensor_svd(left_idx=[0,2], qpn_partition=qpn_partition, absorb=None, max_bond=max_bond)\n",
    "    tmp = np.tensordot(U, S, axes=((-1,),(0,)))\n",
    "    new_Tf = np.tensordot(tmp, V, axes=((-1,),(0,))).transpose([0,2,1,3])\n",
    "    print(\"max_bond=%i, SVD err=%.8f\"%(max_bond, (new_Tf-Tf).norm()))\n",
    "\n",
    "##########################\n",
    "########Tensor QR#########\n",
    "##########################\n",
    "\n",
    "bond = BondInfo({Z2(0):1, Z2(1):2})\n",
    "T = SparseFermionTensor.random((bond,)*4, pattern=\"++--\", dq=Z2(1)) #T[i,j]\n",
    "Tf = T.to_flat()\n",
    "qpn_partition = (Z2(0), Z2(1)) # net symmetry Z2(0) on U, net symmetry Z2(1) on V\n",
    "\n",
    "\n",
    "Q, R = Tf.tensor_qr(left_idx=[0,2], mod='qr')\n",
    "new_Tf = np.tensordot(Q, R, axes=((-1,),(0,))).transpose([0,2,1,3])\n",
    "print(\"QR err=%.8f\"%((new_Tf-Tf).norm()))\n",
    "\n",
    "L, Q = Tf.tensor_qr(left_idx=[0,2], mod='lq')\n",
    "new_Tf = np.tensordot(L, Q, axes=((-1,),(0,))).transpose([0,2,1,3])\n",
    "print(\"LQ err=%.8f\"%((new_Tf-Tf).norm()))\n",
    "\n"
   ]
  }
 ],
 "metadata": {
  "kernelspec": {
   "display_name": "Python 3",
   "language": "python",
   "name": "python3"
  },
  "language_info": {
   "codemirror_mode": {
    "name": "ipython",
    "version": 3
   },
   "file_extension": ".py",
   "mimetype": "text/x-python",
   "name": "python",
   "nbconvert_exporter": "python",
   "pygments_lexer": "ipython3",
   "version": "3.8.5"
  }
 },
 "nbformat": 4,
 "nbformat_minor": 4
}
