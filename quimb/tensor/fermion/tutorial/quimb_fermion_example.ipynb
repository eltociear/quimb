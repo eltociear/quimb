{
 "cells": [
  {
   "cell_type": "raw",
   "metadata": {},
   "source": [
    "#############################\n",
    "Fermion Tensor Network Basics\n",
    "#############################\n",
    "\n",
    "The fermionic tensor network modules in ``quimb`` uses ``pyblock3.algebra.fermion`` submodule as backend. \n",
    "User can choose between two numerical backends (Python and CPP), where the Python backend adopts class:`~pyblock3.algebra.fermion.SparseFermionTensor` as the base data class and CPP uses class:`~pyblock3.algebra.fermion.FlatFermionTensor`.\n",
    "\n",
    "Additionally, ``pyblock3`` backend currently supports four types of symmetries (U1, Z2, U1 \\otimes U1, Z2 \\otimes Z2).\n",
    "\n",
    "Backend settings can be parsed to ``pyblock3`` via func:`~quimb.tensor.block_interface.set_options`.\n",
    "\n",
    "In this example, we'll use Z2 symmetry and Python backend for easier demonstration."
   ]
  },
  {
   "cell_type": "code",
   "execution_count": 17,
   "metadata": {},
   "outputs": [],
   "source": [
    "from quimb.tensor.fermion.block_interface import set_options\n",
    "from quimb.tensor.fermion.fermion_core import FermionTensor, FermionTensorNetwork\n",
    "set_options(use_cpp=False, symmetry=\"Z2\")"
   ]
  },
  {
   "cell_type": "raw",
   "metadata": {},
   "source": [
    "Creating Fermion Tensors\n",
    "------------------------\n",
    "\n",
    "Fermion Tensors are created using the class :class:`~quimb.tensor.fermion.FermionTensor`, which inherits from base \n",
    "class :class:`~quimb.tensor.tensor_core.Tensor` with the requirement that the underlying data must be a ``pyblock3`` block tensor. \n",
    "\n",
    "For user experienced with ``pyblock3``, it's encouraged to create the block tensor data via the ``pyblock3.algebra.fermion`` directly. Additionally, for users seeking basic functionality, ``quimb.tensor.block_gen`` submodule provides routines to generate random fermionic tensors with symmetry.\n",
    "\n",
    "Key functionality:\n",
    "\n",
    "- :func:`~quimb.tensor.block_gen.rand_single_block`\n",
    "- :func:`~quimb.tensor.block_gen.rand_all_blocks`\n",
    "\n",
    "In example we'll create a random three-indexed FermionTensor data T_{abc} with the symmetry pattern as below. \n",
    "                                                ^\n",
    "                                               b|\n",
    "                                            a   |  c\n",
    "                                            --->o--->\n",
    " \n",
    "The symmetry information for this tensor is: S_a - S_b - S_c = Net symmetry."
   ]
  },
  {
   "cell_type": "raw",
   "metadata": {},
   "source": [
    "To create a random single block tensor with net symmetry being Z2(1), we parse the block shape, symmetry pattern , the net symmetry and the index where we want the net symmetry to reside."
   ]
  },
  {
   "cell_type": "code",
   "execution_count": 18,
   "metadata": {},
   "outputs": [],
   "source": [
    "from quimb.tensor.fermion.block_gen import rand_single_block"
   ]
  },
  {
   "cell_type": "code",
   "execution_count": 19,
   "metadata": {},
   "outputs": [
    {
     "name": "stdout",
     "output_type": "stream",
     "text": [
      "Symmetry Pattern: +--\n",
      "Net Symmetry:  < N=1 >\n",
      "(< N=0 >, < N=0 >, < N=1 >) (2, 3, 5)\n"
     ]
    }
   ],
   "source": [
    "shape = (2, 3, 5) # (a, b, c)\n",
    "pattern = \"+--\" # corresponds to S_a - S_b - S_c = Net symmetry\n",
    "dq = 1 # Net symmetry being Z2(1)\n",
    "ind = 2 # allow last index to take the net symmetry\n",
    "\n",
    "data = rand_single_block(shape, pattern=pattern, dq=dq, ind=ind)\n",
    "\n",
    "print(\"Symmetry Pattern:\", data.pattern)\n",
    "print(\"Net Symmetry: \", data.dq)\n",
    "\n",
    "'''\n",
    "if Python backend is used, we can print out the symmetry informations\n",
    "'''\n",
    "if hasattr(data, \"blocks\"):\n",
    "    for iblk in data.blocks:\n",
    "        print(iblk.q_labels, iblk.shape) # Z2(0)-Z2(0)-Z2(1) = Net Symmetry Z2(1)\n",
    "\n",
    "T = FermionTensor(data, inds=('a','b','c'))"
   ]
  },
  {
   "cell_type": "raw",
   "metadata": {},
   "source": [
    "To create a random tensor with multiple blocks, we parse the shape for each block, a tuple of allowed symmetry for each dimension and the net symmetry to function:func:`~quimb.tensor.block_gen.rand_all_blocks`"
   ]
  },
  {
   "cell_type": "code",
   "execution_count": 20,
   "metadata": {},
   "outputs": [
    {
     "name": "stdout",
     "output_type": "stream",
     "text": [
      "(< N=0 >, < N=1 >, < N=0 >) (2, 3, 5)\n",
      "(< N=1 >, < N=0 >, < N=0 >) (2, 3, 5)\n",
      "FermionTensor(shape=(4, 6, 5), inds=('a', 'b', 'c'), tags=oset([]), backend='pyblock3', dtype='float64')\n"
     ]
    }
   ],
   "source": [
    "from quimb.tensor.fermion.block_gen import rand_all_blocks\n",
    "shape = (2, 3, 5)\n",
    "symmetry_info = ((0,1), (0,1), (0,))\n",
    "# allow S_a/S_b to be Z2(0) and Z2(1) only Z2(0) for S_c\n",
    "pattern = \"+--\"\n",
    "dq = 1\n",
    "\n",
    "data = rand_all_blocks(shape, symmetry_info, pattern=pattern, dq=dq)\n",
    "if hasattr(data, \"blocks\"):\n",
    "    for iblk in data.blocks:\n",
    "        print(iblk.q_labels, iblk.shape)\n",
    "\n",
    "T = FermionTensor(data, inds=('a','b','c'))\n",
    "print(T)"
   ]
  },
  {
   "cell_type": "raw",
   "metadata": {},
   "source": [
    "Contraction of Free Fermion Tensors\n",
    "-----------------------------------\n",
    "\n",
    "Contraction between Fermion Tensors are equivalent to contracting operators. The order of the input operands affects the output. For instance, in most cases \\hat{T1} \\hat{T2} != \\hat{T2} \\hat{T1}\n",
    "\n",
    "Contractions are handled by function:func:`~quimb.tensor.fermion.tensor_contract`. If the input tensors are free fermion tensors (not part of any fermion tensor network), the order of the operands are the same as they're in the arguments."
   ]
  },
  {
   "cell_type": "code",
   "execution_count": 21,
   "metadata": {},
   "outputs": [
    {
     "name": "stdout",
     "output_type": "stream",
     "text": [
      "T1 @ T2\n",
      "[0.02132175] (< N=0 >, < N=1 >, < N=1 >, < N=0 >)\n",
      "[0.00144821] (< N=1 >, < N=0 >, < N=1 >, < N=0 >)\n",
      "T2 @ T1\n",
      "[-0.02132175] (< N=0 >, < N=1 >, < N=1 >, < N=0 >)\n",
      "[-0.00144821] (< N=1 >, < N=0 >, < N=1 >, < N=0 >)\n"
     ]
    }
   ],
   "source": [
    "import numpy as np\n",
    "shape = (1,1,1)\n",
    "data1 = rand_all_blocks(shape, symmetry_info, pattern=pattern, dq=dq)\n",
    "T1 = FermionTensor(data1, inds=('a','b', 'c'))\n",
    "\n",
    "data2 = rand_all_blocks(shape, symmetry_info, pattern=pattern, dq=dq)\n",
    "T2 = FermionTensor(data2, inds=('c','d', 'e'))\n",
    "\n",
    "from quimb.tensor.tensor_core import tensor_contract\n",
    "\n",
    "out = tensor_contract(T1, T2, output_inds=('a', 'b', 'd', 'e'))  # \\hat{T}_1 \\hat{T}_2\n",
    "out1 = tensor_contract(T2, T1, output_inds=('a', 'b', 'd', 'e')) # \\hat{T}_2 \\hat{T}_1\n",
    "\n",
    "# note contraction has an order in Fermion Tensors\n",
    "# T1 \\dot T2 != T2 \\dot T1\n",
    "print(\"T1 @ T2\")\n",
    "for iblk in out.data:\n",
    "    print(np.asarray(iblk).ravel(), iblk.q_labels)\n",
    "\n",
    "print(\"T2 @ T1\")\n",
    "for iblk in out1.data:\n",
    "    print(np.asarray(iblk).ravel(), iblk.q_labels)\n"
   ]
  },
  {
   "cell_type": "raw",
   "metadata": {},
   "source": [
    "Creating Fermion Tensor Network\n",
    "-------------------------------\n",
    "\n",
    "\n",
    "We can combine these tensors into a :class:`~quimb.tensor.fermion.FermionTensorNetwork` using the ``&`` operator overload:"
   ]
  },
  {
   "cell_type": "code",
   "execution_count": 22,
   "metadata": {},
   "outputs": [
    {
     "name": "stdout",
     "output_type": "stream",
     "text": [
      "[0.02132175] (< N=1 >, < N=0 >, < N=0 >, < N=1 >)\n",
      "[0.00144821] (< N=1 >, < N=0 >, < N=1 >, < N=0 >)\n",
      "[0.02132175] (< N=1 >, < N=0 >, < N=0 >, < N=1 >)\n",
      "[0.00144821] (< N=1 >, < N=0 >, < N=1 >, < N=0 >)\n"
     ]
    }
   ],
   "source": [
    "tn = T1 & T2 # equivalent to \\hat{T2} \\hat{T1}\n",
    "out = tn.contract(all)\n",
    "for iblk in out.data:\n",
    "    print(np.asarray(iblk).ravel(), iblk.q_labels)\n",
    "\n",
    "from quimb.tensor.fermion.fermion_core import FermionTensorNetwork\n",
    "tn = FermionTensorNetwork((T1, T2), virtual=True) # T_2 T_1\n",
    "out = tn.contract(all)\n",
    "for iblk in out.data:\n",
    "    print(np.asarray(iblk).ravel(), iblk.q_labels)\n"
   ]
  },
  {
   "cell_type": "raw",
   "metadata": {},
   "source": [
    "Creating Random 2D Fermionoc PEPS\n",
    "---------------------------------\n",
    "\n",
    "\n",
    "When generating randomn 2D fermionic PEPS, one needs to decide the initial net symmetry on each site and the allowed symmetry sectors on each leg. The two arguments are parsed to :func:`~quimb.tensor.block_gen.gen_2d_bonds` to generate symmetry informations needed to generate 2D fermionic PEPS using :method:`~quimb.tensor.fermion_2d.FPEPS.rand`\n",
    "\n",
    "In this example we show how to generate a 4*4 fermionic PEPS with all Z2 symmetries sectors allowed in each leg. The bond dimension per block is 2 and we place net symmetry of Z2(1) on each site"
   ]
  },
  {
   "cell_type": "code",
   "execution_count": 23,
   "metadata": {},
   "outputs": [
    {
     "data": {
      "text/plain": [
       "<FPEPS(tensors=12, indices=29, Lx=4, Ly=3, max_bond=4)>"
      ]
     },
     "execution_count": 23,
     "metadata": {},
     "output_type": "execute_result"
    }
   ],
   "source": [
    "from quimb.tensor.fermion.block_gen import gen_2d_bonds\n",
    "from quimb.tensor.fermion.fermion_2d import FPEPS\n",
    "Lx, Ly = (4, 3)\n",
    "z2arr = np.ones((Lx, Ly)) # net Z2(1) at each site\n",
    "physical_infos = dict()\n",
    "for ix in range(Lx):\n",
    "    for iy in range(Ly):\n",
    "        physical_infos[ix, iy] = (0,1) # all physical legs allow Z2(0) and Z2(1) symmetry        \n",
    "symmetry_infos, dq_infos = gen_2d_bonds(z2arr, physical_infos)\n",
    "\n",
    "bond_dim = 2\n",
    "peps = FPEPS.rand(Lx, Ly, bond_dim, symmetry_infos, dq_infos, phys_dim=2)\n",
    "peps.normalize_()"
   ]
  },
  {
   "cell_type": "raw",
   "metadata": {},
   "source": [
    "Getting Hubbard Hamiltonian\n",
    "---------------------------\n",
    "\n",
    "The fermionic module provides a default interface to encode 2D Hubbard model in the backend. This is achieved through :func:`~quimb.tensor.fermion_2d.Hubbard2D`. The hopping hamiltonian is implemented as a block tensor that acts on two bits. The single-bit onsite Coulomb repulsion and chemical potential part are factorized in the same two-bit tensor. \n",
    "\n",
    "In this example, we compute the energy of the random state in 2D Hubbard Hamiltonian\n"
   ]
  },
  {
   "cell_type": "code",
   "execution_count": 24,
   "metadata": {},
   "outputs": [
    {
     "name": "stdout",
     "output_type": "stream",
     "text": [
      "6.800168871392267\n"
     ]
    }
   ],
   "source": [
    "from quimb.tensor.fermion.fermion_2d_tebd import Hubbard2D\n",
    "t = 1\n",
    "u = 4\n",
    "mu = 0\n",
    "ham = Hubbard2D(t, u, Lx, Ly, mu=mu)\n",
    "ene = peps.compute_local_expectation(ham.terms, max_bond=32)\n",
    "print(ene)"
   ]
  },
  {
   "cell_type": "raw",
   "metadata": {},
   "source": [
    "Measuring Local Observables\n",
    "---------------------------\n",
    "\n",
    "The fermionic modules provides some default encoding scheme to construct operators/states for spinful fermions.\n",
    "\n",
    "Symmetry    |vac>      |+->       |+>         |->\n",
    "--------------------------------------------------\n",
    "   Z2       Z2(0)      Z2(0)      Z2(1)       Z2(1)\n",
    "  Z2*Z2     (0,0)      (0,1)      (1,0)       (1,1)\n",
    "   U1       U1(0)      U1(2)      U1(1)       U1(1)\n",
    "  U1*U1     (0,0)      (2,0)      (1,1)       (1,-1)\n",
    "--------------------------------------------------\n",
    "\n",
    "Key operators for such encoding scheme:\n",
    "\n",
    "- :func:`~quimb.tensor.block_interface.ParticleNumber`\n",
    "- :func:`~quimb.tensor.block_interface.measure_SZ`\n",
    "- :func:`~quimb.tensor.block_interface.Hubbard`\n",
    "\n",
    "For customized encoding scheme, user needs to implement the Hamiltonian."
   ]
  },
  {
   "cell_type": "code",
   "execution_count": 25,
   "metadata": {},
   "outputs": [],
   "source": [
    "from quimb.tensor.fermion.block_interface import ParticleNumber, measure_SZ\n",
    "pnterms = dict()\n",
    "pnop = ParticleNumber()\n",
    "szterms = dict()\n",
    "szop = measure_SZ()\n",
    "for ix in range(Lx):\n",
    "    for iy in range(Ly):\n",
    "        pnterms[ix,iy]=pnop\n",
    "        szterms[ix,iy]=szop\n",
    "pntot = peps.compute_local_expectation(pnterms, max_bond=32)\n",
    "sztot = peps.compute_local_expectation(szterms, max_bond=32)\n"
   ]
  },
  {
   "cell_type": "code",
   "execution_count": 26,
   "metadata": {},
   "outputs": [
    {
     "name": "stdout",
     "output_type": "stream",
     "text": [
      "11.93751858696992\n",
      "0.2903180199133577\n"
     ]
    }
   ],
   "source": [
    "print(pntot)\n",
    "print(sztot)"
   ]
  },
  {
   "cell_type": "raw",
   "metadata": {},
   "source": [
    "Simple Update\n",
    "-------------\n",
    "\n"
   ]
  },
  {
   "cell_type": "code",
   "execution_count": 27,
   "metadata": {},
   "outputs": [
    {
     "name": "stderr",
     "output_type": "stream",
     "text": [
      "  0%|          | 0/10 [00:02<?, ?it/s]\n"
     ]
    },
    {
     "ename": "AttributeError",
     "evalue": "'LocalHam2D' object has no attribute 'nsites'",
     "output_type": "error",
     "traceback": [
      "\u001b[0;31m---------------------------------------------------------------------------\u001b[0m",
      "\u001b[0;31mAttributeError\u001b[0m                            Traceback (most recent call last)",
      "\u001b[0;32m<ipython-input-27-00395e21aaf1>\u001b[0m in \u001b[0;36m<module>\u001b[0;34m\u001b[0m\n\u001b[1;32m     11\u001b[0m     \u001b[0mkeep_best\u001b[0m\u001b[0;34m=\u001b[0m\u001b[0;32mTrue\u001b[0m\u001b[0;34m,\u001b[0m\u001b[0;34m\u001b[0m\u001b[0;34m\u001b[0m\u001b[0m\n\u001b[1;32m     12\u001b[0m )\n\u001b[0;32m---> 13\u001b[0;31m \u001b[0msu\u001b[0m\u001b[0;34m.\u001b[0m\u001b[0mevolve\u001b[0m\u001b[0;34m(\u001b[0m\u001b[0;36m10\u001b[0m\u001b[0;34m,\u001b[0m \u001b[0mtau\u001b[0m\u001b[0;34m=\u001b[0m\u001b[0;36m0.01\u001b[0m\u001b[0;34m)\u001b[0m\u001b[0;34m\u001b[0m\u001b[0;34m\u001b[0m\u001b[0m\n\u001b[0m\u001b[1;32m     14\u001b[0m \u001b[0;34m\u001b[0m\u001b[0m\n",
      "\u001b[0;32m~/software/miniconda3/lib/python3.8/site-packages/quimb/tensor/tensor_arbgeom_tebd.py\u001b[0m in \u001b[0;36mevolve\u001b[0;34m(self, steps, tau, progbar)\u001b[0m\n\u001b[1;32m    547\u001b[0m                     (i % self.compute_energy_every == 0))\n\u001b[1;32m    548\u001b[0m                 \u001b[0;32mif\u001b[0m \u001b[0mshould_compute_energy\u001b[0m\u001b[0;34m:\u001b[0m\u001b[0;34m\u001b[0m\u001b[0;34m\u001b[0m\u001b[0m\n\u001b[0;32m--> 549\u001b[0;31m                     \u001b[0mself\u001b[0m\u001b[0;34m.\u001b[0m\u001b[0m_check_energy\u001b[0m\u001b[0;34m(\u001b[0m\u001b[0;34m)\u001b[0m\u001b[0;34m\u001b[0m\u001b[0;34m\u001b[0m\u001b[0m\n\u001b[0m\u001b[1;32m    550\u001b[0m                     \u001b[0mself\u001b[0m\u001b[0;34m.\u001b[0m\u001b[0m_update_progbar\u001b[0m\u001b[0;34m(\u001b[0m\u001b[0mpbar\u001b[0m\u001b[0;34m)\u001b[0m\u001b[0;34m\u001b[0m\u001b[0;34m\u001b[0m\u001b[0m\n\u001b[1;32m    551\u001b[0m \u001b[0;34m\u001b[0m\u001b[0m\n",
      "\u001b[0;32m~/software/miniconda3/lib/python3.8/site-packages/quimb/tensor/tensor_arbgeom_tebd.py\u001b[0m in \u001b[0;36m_check_energy\u001b[0;34m(self)\u001b[0m\n\u001b[1;32m    611\u001b[0m \u001b[0;34m\u001b[0m\u001b[0m\n\u001b[1;32m    612\u001b[0m         \u001b[0;32mif\u001b[0m \u001b[0mself\u001b[0m\u001b[0;34m.\u001b[0m\u001b[0mcompute_energy_per_site\u001b[0m\u001b[0;34m:\u001b[0m\u001b[0;34m\u001b[0m\u001b[0;34m\u001b[0m\u001b[0m\n\u001b[0;32m--> 613\u001b[0;31m             \u001b[0men\u001b[0m \u001b[0;34m=\u001b[0m \u001b[0men\u001b[0m \u001b[0;34m/\u001b[0m \u001b[0mself\u001b[0m\u001b[0;34m.\u001b[0m\u001b[0mham\u001b[0m\u001b[0;34m.\u001b[0m\u001b[0mnsites\u001b[0m\u001b[0;34m\u001b[0m\u001b[0;34m\u001b[0m\u001b[0m\n\u001b[0m\u001b[1;32m    614\u001b[0m \u001b[0;34m\u001b[0m\u001b[0m\n\u001b[1;32m    615\u001b[0m         \u001b[0mself\u001b[0m\u001b[0;34m.\u001b[0m\u001b[0menergies\u001b[0m\u001b[0;34m.\u001b[0m\u001b[0mappend\u001b[0m\u001b[0;34m(\u001b[0m\u001b[0mfloat\u001b[0m\u001b[0;34m(\u001b[0m\u001b[0men\u001b[0m\u001b[0;34m)\u001b[0m\u001b[0;34m)\u001b[0m\u001b[0;34m\u001b[0m\u001b[0;34m\u001b[0m\u001b[0m\n",
      "\u001b[0;31mAttributeError\u001b[0m: 'LocalHam2D' object has no attribute 'nsites'"
     ]
    }
   ],
   "source": [
    "from quimb.tensor.fermion.fermion_2d_tebd import SimpleUpdate\n",
    "\n",
    "su = SimpleUpdate(\n",
    "    psi0=peps,\n",
    "    ham=ham,\n",
    "    D=6,\n",
    "    chi=32,\n",
    "    compute_energy_every=10,\n",
    "    compute_energy_per_site=True,\n",
    "    ordering = 'random',\n",
    "    keep_best=True,\n",
    ")\n",
    "su.evolve(10, tau=0.01)\n",
    "\n"
   ]
  },
  {
   "cell_type": "code",
   "execution_count": null,
   "metadata": {},
   "outputs": [],
   "source": [
    "psi = su.get_state()\n",
    "pntot1 = psi.compute_local_expectation(pnterms, max_bond=32, normalized=True)\n",
    "sztot1 = psi.compute_local_expectation(szterms, max_bond=32, normalized=True)\n",
    "print(\"Before Simple Update\")\n",
    "print(\"N=%.6f, Sz=%.6f\"%(pntot, sztot))\n",
    "print(\"After Simple Update\")\n",
    "print(\"N=%.6f, Sz=%.6f\"%(pntot1, sztot1))"
   ]
  },
  {
   "cell_type": "code",
   "execution_count": null,
   "metadata": {},
   "outputs": [],
   "source": []
  }
 ],
 "metadata": {
  "kernelspec": {
   "display_name": "Python 3",
   "language": "python",
   "name": "python3"
  },
  "language_info": {
   "codemirror_mode": {
    "name": "ipython",
    "version": 3
   },
   "file_extension": ".py",
   "mimetype": "text/x-python",
   "name": "python",
   "nbconvert_exporter": "python",
   "pygments_lexer": "ipython3",
   "version": "3.8.5"
  }
 },
 "nbformat": 4,
 "nbformat_minor": 4
}
