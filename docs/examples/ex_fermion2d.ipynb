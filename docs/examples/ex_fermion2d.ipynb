{
 "cells": [
  {
   "cell_type": "markdown",
   "metadata": {},
   "source": [
    "2D Hubbard Model Example\n",
    "========"
   ]
  },
  {
   "cell_type": "markdown",
   "metadata": {},
   "source": [
    "This is an example of how to run SimpleUpdate for 2D Fermionic PEPS.\n",
    "We'll define a 2D Hubbard Hamiltonian first:"
   ]
  },
  {
   "cell_type": "code",
   "execution_count": 36,
   "metadata": {},
   "outputs": [],
   "source": [
    "import numpy as np\n",
    "import itertools\n",
    "from quimb.tensor.fermion_2d_tebd import Hubbard2D, SimpleUpdate\n",
    "from pyblock3.algebra import fermion_operators as ops\n",
    "\n",
    "t=1\n",
    "u=4\n",
    "Lx = Ly = 2\n",
    "mu = -0.9\n",
    "Ham = Hubbard2D(t, u, Lx, Ly, mu=mu)\n",
    "efci = -5.702748483462062\n"
   ]
  },
  {
   "cell_type": "markdown",
   "metadata": {},
   "source": [
    "Now we'll generate some initial guess to begin our SimpleUpdate. In quimb, we can use an integer array with shape (Lx, Ly) to generate a mean field inital guess. The integer value encodes the spin state for that site, specifically:\n",
    "\n",
    "0: |vac> \n",
    "1: |+> \n",
    "2: |-> \n",
    "3: |-+> "
   ]
  },
  {
   "cell_type": "markdown",
   "metadata": {},
   "source": [
    "Here we use a mean field AFM lattice as initial guess\n"
   ]
  },
  {
   "cell_type": "code",
   "execution_count": 37,
   "metadata": {},
   "outputs": [],
   "source": [
    "state_array = np.zeros([Lx,Ly])\n",
    "state_array[0,0] = state_array[1,1] = 1 # up spin at (0,0) and (1,1)\n",
    "state_array[0,1] = state_array[1,0] = 2 # down spin at (0,1) and (1,0)"
   ]
  },
  {
   "cell_type": "code",
   "execution_count": 38,
   "metadata": {},
   "outputs": [
    {
     "name": "stdout",
     "output_type": "stream",
     "text": [
      "1.0\n"
     ]
    }
   ],
   "source": [
    "from quimb.tensor.fermion_2d import gen_mf_peps\n",
    "\n",
    "psi = gen_mf_peps(state_array) # this is now a 2d mean field PEPS\n",
    "norm = psi.compute_norm()\n",
    "print(norm)"
   ]
  },
  {
   "cell_type": "markdown",
   "metadata": {},
   "source": [
    "We can compute the Sz at each site to make sure it's a fully AFM state"
   ]
  },
  {
   "cell_type": "code",
   "execution_count": 39,
   "metadata": {},
   "outputs": [
    {
     "name": "stdout",
     "output_type": "stream",
     "text": [
      "(0, 0): SZ=0.50, N=1\n",
      "(0, 1): SZ=-0.50, N=1\n",
      "(1, 0): SZ=-0.50, N=1\n",
      "(1, 1): SZ=0.50, N=1\n"
     ]
    }
   ],
   "source": [
    "sz = ops.measure_sz()\n",
    "nop = ops.count_n()\n",
    "\n",
    "sz_ops = {(ix,iy): sz for ix, iy in itertools.product(range(Lx), range(Ly))}\n",
    "n_ops = {(ix,iy): nop for ix, iy in itertools.product(range(Lx), range(Ly))}\n",
    "\n",
    "sz_expecs = psi.compute_local_expectation(sz_ops, return_all=True, normalized=True)\n",
    "n_expecs = psi.compute_local_expectation(n_ops, return_all=True, normalized=True)\n",
    "\n",
    "for ix, iy in itertools.product(range(Lx), range(Ly)):\n",
    "    print(\"(%i, %i): SZ=%.2f, N=%i\"%(ix,iy,sz_expecs[(ix,iy)][0], n_expecs[(ix,iy)][0]))\n"
   ]
  },
  {
   "cell_type": "markdown",
   "metadata": {},
   "source": [
    "Now we construct our SimpleUpdate Object"
   ]
  },
  {
   "cell_type": "code",
   "execution_count": 40,
   "metadata": {},
   "outputs": [
    {
     "name": "stderr",
     "output_type": "stream",
     "text": [
      "n=6000, tau=0.001, energy~-5.701882: 100%|██████████| 6000/6000 [11:17<00:00,  8.85it/s]\n"
     ]
    },
    {
     "name": "stdout",
     "output_type": "stream",
     "text": [
      "(0, 0): SZ=0.02, N=1.13\n",
      "(0, 1): SZ=-0.02, N=1.13\n",
      "(1, 0): SZ=-0.02, N=1.13\n",
      "(1, 1): SZ=0.02, N=1.13\n"
     ]
    }
   ],
   "source": [
    "su = SimpleUpdate(\n",
    "    psi,\n",
    "    Ham,\n",
    "    chi=128,  # boundary contraction bond dim for computing energy\n",
    "    D = 12,\n",
    "    compute_energy_every=100,\n",
    "    compute_energy_per_site=False,\n",
    "    keep_best=True,\n",
    "    ordering = 'random',\n",
    "    gauge_smudge = 1e-6,\n",
    "    callback=None\n",
    ")\n",
    "tau = 0.001\n",
    "su.evolve(6000, tau=tau)\n",
    "\n",
    "sz_expecs = su.get_state().compute_local_expectation(sz_ops, return_all=True, normalized=True)\n",
    "n_expecs = su.get_state().compute_local_expectation(n_ops, return_all=True, normalized=True)\n",
    "\n",
    "for ix, iy in itertools.product(range(Lx), range(Ly)):\n",
    "    print(\"(%i, %i): SZ=%.2f, N=%.2f\"%(ix,iy,sz_expecs[(ix,iy)][0], n_expecs[(ix,iy)][0]))"
   ]
  },
  {
   "cell_type": "code",
   "execution_count": 41,
   "metadata": {},
   "outputs": [
    {
     "name": "stderr",
     "output_type": "stream",
     "text": [
      "n=6000, tau=0.001, energy~-5.701889: 100%|██████████| 6000/6000 [11:08<00:00,  8.98it/s]\n"
     ]
    },
    {
     "name": "stdout",
     "output_type": "stream",
     "text": [
      "(0, 0): SZ=-0.01, N=1.08\n",
      "(0, 0): SZ=-0.01, N=1.08\n",
      "(0, 1): SZ=0.01, N=1.08\n",
      "(0, 1): SZ=0.01, N=1.08\n",
      "(1, 0): SZ=0.01, N=1.08\n",
      "(1, 0): SZ=0.01, N=1.08\n",
      "(1, 1): SZ=-0.01, N=1.08\n",
      "(1, 1): SZ=-0.01, N=1.08\n"
     ]
    }
   ],
   "source": [
    "su1 = SimpleUpdate(\n",
    "    psi,\n",
    "    Ham,\n",
    "    chi=128,  # boundary contraction bond dim for computing energy\n",
    "    D = 16,\n",
    "    compute_energy_every=100,\n",
    "    compute_energy_per_site=False,\n",
    "    keep_best=True,\n",
    "    ordering = 'random',\n",
    "    gauge_smudge = 1e-6,\n",
    "    callback=None\n",
    ")\n",
    "tau = 0.001\n",
    "su1.evolve(6000, tau=tau)\n",
    "\n",
    "sz_expecs = su1.get_state().compute_local_expectation(sz_ops, return_all=True, normalized=True)\n",
    "n_expecs = su1.get_state().compute_local_expectation(n_ops, return_all=True, normalized=True)\n",
    "\n",
    "for ix, iy in itertools.product(range(Lx), range(Ly)):\n",
    "    print(\"(%i, %i): SZ=%.2f, N=%.2f\"%(ix,iy,sz_expecs[(ix,iy)][0], n_expecs[(ix,iy)][0]))\n",
    "    print(\"(%i, %i): SZ=%.2f, N=%.2f\"%(ix,iy,sz_expecs[(ix,iy)][0], n_expecs[(ix,iy)][0]))"
   ]
  },
  {
   "cell_type": "markdown",
   "metadata": {},
   "source": [
    "Unfortunately, PEPS uses approximate contraction and certain symmetry in the initial guess may not be preserved"
   ]
  },
  {
   "cell_type": "code",
   "execution_count": 42,
   "metadata": {},
   "outputs": [
    {
     "name": "stderr",
     "output_type": "stream",
     "text": [
      "n=6000, tau=0.001, energy~-5.699187: 100%|██████████| 6000/6000 [13:25<00:00,  7.45it/s]\n"
     ]
    },
    {
     "name": "stdout",
     "output_type": "stream",
     "text": [
      "(0, 0): SZ=0.06, N=1.01\n",
      "(0, 1): SZ=-0.06, N=1.01\n",
      "(1, 0): SZ=-0.06, N=1.01\n",
      "(1, 1): SZ=0.06, N=1.01\n"
     ]
    }
   ],
   "source": [
    "su2 = SimpleUpdate(\n",
    "    psi,\n",
    "    Ham,\n",
    "    chi=128,  # boundary contraction bond dim for computing energy\n",
    "    D = 24,\n",
    "    compute_energy_every=100,\n",
    "    compute_energy_per_site=False,\n",
    "    keep_best=True,\n",
    "    ordering = 'random',\n",
    "    gauge_smudge = 1e-6,\n",
    "    callback=None\n",
    ")\n",
    "tau = 0.001\n",
    "su2.evolve(6000, tau=tau)\n",
    "\n",
    "sz_expecs = su2.get_state().compute_local_expectation(sz_ops, return_all=True, normalized=True)\n",
    "n_expecs = su2.get_state().compute_local_expectation(n_ops, return_all=True, normalized=True)\n",
    "\n",
    "for ix, iy in itertools.product(range(Lx), range(Ly)):\n",
    "    print(\"(%i, %i): SZ=%.2f, N=%.2f\"%(ix,iy,sz_expecs[(ix,iy)][0], n_expecs[(ix,iy)][0]))"
   ]
  },
  {
   "cell_type": "code",
   "execution_count": 44,
   "metadata": {},
   "outputs": [
    {
     "name": "stdout",
     "output_type": "stream",
     "text": [
      "chi=128\n",
      "-5.701882215719689 -5.701882215719689 [0.02132075763649735, -0.0213207576409023, -0.02132075763619834, 0.021320757640603233] [1.1301947125656033, 1.1301947125660177, 1.1301947125660234, 1.1301947125656127]\n",
      "-5.701889174439364 -5.701889174439364 [-0.00907496003109931, 0.009062174991132932, 0.009057952980593226, -0.009045148380751517] [1.079505995534109, 1.079525465973902, 1.0795266433543542, 1.079496290829968]\n",
      "-5.699187240224151 -5.699187240224151 [0.061339504184178995, -0.061328171581932406, -0.06134870578994964, 0.06133737150197102] [1.0106123764105819, 1.0110268682097463, 1.0118180744912104, 1.0113771545526176]\n"
     ]
    }
   ],
   "source": [
    "psi0 = su.get_state()\n",
    "psi1 = su1.get_state()\n",
    "psi2 = su2.get_state()\n",
    "\n",
    "max_bond = 128\n",
    "ene0 = psi0.compute_local_expectation(Ham.terms, normalized=True, max_bond=max_bond)\n",
    "z0 = psi0.compute_local_expectation(sz_ops, return_all=True, normalized=True, max_bond=max_bond)\n",
    "n0 = psi0.compute_local_expectation(n_ops, return_all=True, normalized=True, max_bond=max_bond)\n",
    "ene1 = psi1.compute_local_expectation(Ham.terms, normalized=True, max_bond=max_bond)\n",
    "z1 = psi1.compute_local_expectation(sz_ops, return_all=True, normalized=True, max_bond=max_bond)\n",
    "n1 = psi1.compute_local_expectation(n_ops, return_all=True, normalized=True, max_bond=max_bond)\n",
    "ene2 = psi2.compute_local_expectation(Ham.terms, normalized=True, max_bond=max_bond)\n",
    "z2 = psi2.compute_local_expectation(sz_ops, return_all=True, normalized=True, max_bond=max_bond)\n",
    "n2 = psi2.compute_local_expectation(n_ops, return_all=True, normalized=True, max_bond=max_bond)\n",
    "print(\"chi=%i\"%max_bond)\n",
    "print(ene0, su.energies[-1], [val[0] for val in z0.values()], [val[0] for val in n0.values()])\n",
    "print(ene1, su1.energies[-1], [val[0] for val in z1.values()], [val[0] for val in n1.values()])\n",
    "print(ene2, su2.energies[-1], [val[0] for val in z2.values()], [val[0] for val in n2.values()])"
   ]
  },
  {
   "cell_type": "code",
   "execution_count": 43,
   "metadata": {},
   "outputs": [
    {
     "data": {
      "text/plain": [
       "<matplotlib.legend.Legend at 0x7fd7f403bfd0>"
      ]
     },
     "execution_count": 43,
     "metadata": {},
     "output_type": "execute_result"
    },
    {
     "data": {
      "image/png": "[encoded data removed]",
      "text/plain": [
       "<Figure size 432x288 with 1 Axes>"
      ]
     },
     "metadata": {
      "needs_background": "light"
     },
     "output_type": "display_data"
    }
   ],
   "source": [
    "from matplotlib import pyplot as plt\n",
    "tlst = np.arange(len(su.energies)) * tau * 100\n",
    "plt.plot(tlst, (np.asarray(su.energies)-efci)/abs(efci), label=\"chi=12\")\n",
    "plt.plot(tlst, (np.asarray(su1.energies)-efci)/abs(efci), label=\"chi=16\")\n",
    "plt.plot(tlst, (np.asarray(su2.energies)-efci)/abs(efci), label=\"chi=24\")\n",
    "plt.yscale(\"log\")\n",
    "plt.legend()"
   ]
  },
  {
   "cell_type": "code",
   "execution_count": 45,
   "metadata": {},
   "outputs": [
    {
     "name": "stderr",
     "output_type": "stream",
     "text": [
      "n=6000, tau=0.001, energy~-5.702278: 100%|██████████| 6000/6000 [16:12<00:00,  6.17it/s]  \n"
     ]
    },
    {
     "name": "stdout",
     "output_type": "stream",
     "text": [
      "(0, 0): SZ=0.0131, N=0.9095\n",
      "(0, 1): SZ=-0.0134, N=0.9091\n",
      "(1, 0): SZ=-0.0135, N=0.9087\n",
      "(1, 1): SZ=0.0138, N=0.9098\n"
     ]
    }
   ],
   "source": [
    "su3 = SimpleUpdate(\n",
    "    psi,\n",
    "    Ham,\n",
    "    chi=128,  # boundary contraction bond dim for computing energy\n",
    "    D = 36,\n",
    "    compute_energy_every=100,\n",
    "    compute_energy_per_site=False,\n",
    "    keep_best=True,\n",
    "    ordering = 'random',\n",
    "    gauge_smudge = 1e-6,\n",
    "    callback=None\n",
    ")\n",
    "tau = 0.001\n",
    "su3.evolve(6000, tau=tau)\n",
    "\n",
    "sz_expecs = su3.get_state().compute_local_expectation(sz_ops, return_all=True, normalized=True)\n",
    "n_expecs = su3.get_state().compute_local_expectation(n_ops, return_all=True, normalized=True)\n",
    "\n",
    "for ix, iy in itertools.product(range(Lx), range(Ly)):\n",
    "    print(\"(%i, %i): SZ=%.4f, N=%.4f\"%(ix,iy,sz_expecs[(ix,iy)][0], n_expecs[(ix,iy)][0]))"
   ]
  },
  {
   "cell_type": "code",
   "execution_count": null,
   "metadata": {},
   "outputs": [],
   "source": []
  }
 ],
 "metadata": {
  "kernelspec": {
   "display_name": "Python 3",
   "language": "python",
   "name": "python3"
  },
  "language_info": {
   "codemirror_mode": {
    "name": "ipython",
    "version": 3
   },
   "file_extension": ".py",
   "mimetype": "text/x-python",
   "name": "python",
   "nbconvert_exporter": "python",
   "pygments_lexer": "ipython3",
   "version": "3.8.5"
  }
 },
 "nbformat": 4,
 "nbformat_minor": 4
}
